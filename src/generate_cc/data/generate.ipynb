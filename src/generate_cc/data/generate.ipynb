{
 "cells": [
  {
   "cell_type": "code",
   "execution_count": 7,
   "id": "3874906b",
   "metadata": {},
   "outputs": [],
   "source": [
    "# generate data used to train control code predictior\n",
    "import csv\n",
    "\n",
    "def transfer(in_path, out_path):\n",
    "    datas = []\n",
    "    csvFile = open(in_path, \"r\")\n",
    "    reader = csv.reader(csvFile)\n",
    "    for item in reader:\n",
    "        # 忽略第一行\n",
    "        if reader.line_num == 1:\n",
    "            datas.append(item)\n",
    "            continue\n",
    "        text = item[0]\n",
    "        text = text.split(' ==> ')\n",
    "        labels = text[0]\n",
    "        input_text = text[1]\n",
    "        \n",
    "        datas.append([input_text, labels])\n",
    "    csvFile.close()\n",
    "    \n",
    "    with open(out_path,\"w\") as csvfile: \n",
    "        writer = csv.writer(csvfile)\n",
    "        for line in datas:\n",
    "            #先写入columns_name\n",
    "            writer.writerow(line)\n",
    "\n",
    "    return datas\n",
    "\n"
   ]
  },
  {
   "cell_type": "code",
   "execution_count": 16,
   "id": "a3290034",
   "metadata": {},
   "outputs": [],
   "source": [
    "in_path = '/MReD/summarization/abstractive/filtered_controlled_data/test_rate_concat_seg-ctrl.csv'\n",
    "out_path = '/MReD/summarization/abstractive/generate_data/test_rate_concat_seg-ctrl.csv'\n",
    "datas = transfer(in_path, out_path)"
   ]
  },
  {
   "cell_type": "code",
   "execution_count": 32,
   "id": "8a2de165",
   "metadata": {},
   "outputs": [],
   "source": [
    "\n",
    "\n"
   ]
  },
  {
   "cell_type": "code",
   "execution_count": 33,
   "id": "4b261d37",
   "metadata": {},
   "outputs": [],
   "source": [
    "# concat the generated control code with original reviews\n",
    "original= \"/MReD/summarization/abstractive/filtered_controlled_data/test_rate_concat_sent-ctrl.csv\"\n",
    "output = \"/MReD/summarization/abstractive/results/class_epoch1_f12/test_rate_concat_sent-ctrl.csv\"\n",
    "predict = []\n",
    "with open(\"/MReD/summarization/abstractive/results/class_epoch1_f12/predictions.json\", 'r') as src:\n",
    "    for line in src:\n",
    "        line = line.split('\\n')[0]\n",
    "        predict.append(line)\n",
    "\n",
    "datas = []\n",
    "csvFile = open(original, \"r\")\n",
    "reader = csv.reader(csvFile)\n",
    "for item in reader:\n",
    "    # 忽略第一行\n",
    "    if reader.line_num == 1:\n",
    "        datas.append(item)\n",
    "        continue\n",
    "    index = reader.line_num - 2\n",
    "    \n",
    "    text = item[0]\n",
    "    text = text.split(' ==> ')\n",
    "    input_text = text[1]\n",
    "    summary = item[1]\n",
    "    input_text = (predict[index] + ' ==> ') + input_text\n",
    "    datas.append([input_text, summary])\n",
    "csvFile.close()\n",
    "\n",
    "with open(output,\"w\") as csvfile: \n",
    "    writer = csv.writer(csvfile)\n",
    "    for line in datas:\n",
    "        #先写入columns_name\n",
    "        writer.writerow(line)"
   ]
  },
  {
   "cell_type": "code",
   "execution_count": 34,
   "id": "898ebcf2",
   "metadata": {},
   "outputs": [],
   "source": []
  },
  {
   "cell_type": "code",
   "execution_count": null,
   "id": "3a927aeb",
   "metadata": {},
   "outputs": [],
   "source": []
  }
 ],
 "metadata": {
  "kernelspec": {
   "display_name": "Python 3",
   "language": "python",
   "name": "python3"
  },
  "language_info": {
   "codemirror_mode": {
    "name": "ipython",
    "version": 3
   },
   "file_extension": ".py",
   "mimetype": "text/x-python",
   "name": "python",
   "nbconvert_exporter": "python",
   "pygments_lexer": "ipython3",
   "version": "3.6.15"
  }
 },
 "nbformat": 4,
 "nbformat_minor": 5
}
